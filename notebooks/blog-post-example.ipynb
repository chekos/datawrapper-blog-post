{
 "cells": [
  {
   "cell_type": "code",
   "execution_count": 1,
   "metadata": {},
   "outputs": [],
   "source": [
    "from datawrapper import Datawrapper\n",
    "import pandas as pd"
   ]
  },
  {
   "cell_type": "code",
   "execution_count": 2,
   "metadata": {},
   "outputs": [],
   "source": [
    "data = pd.read_csv(\"clean_data.csv\")"
   ]
  },
  {
   "cell_type": "code",
   "execution_count": 3,
   "metadata": {},
   "outputs": [],
   "source": [
    "# pivot table\n",
    "dw_data = data.pivot_table(columns = ['edu-three-cat'], index = 'year', values = 'perwt', aggfunc='sum')"
   ]
  },
  {
   "cell_type": "code",
   "execution_count": 4,
   "metadata": {},
   "outputs": [],
   "source": [
    "dw_data = dw_data.apply(lambda x: x*100 / x.sum(), axis = 1)"
   ]
  },
  {
   "cell_type": "code",
   "execution_count": 5,
   "metadata": {},
   "outputs": [],
   "source": [
    "dw_data.reset_index(inplace = True)"
   ]
  },
  {
   "cell_type": "code",
   "execution_count": 6,
   "metadata": {},
   "outputs": [
    {
     "data": {
      "text/html": [
       "<div>\n",
       "<style scoped>\n",
       "    .dataframe tbody tr th:only-of-type {\n",
       "        vertical-align: middle;\n",
       "    }\n",
       "\n",
       "    .dataframe tbody tr th {\n",
       "        vertical-align: top;\n",
       "    }\n",
       "\n",
       "    .dataframe thead th {\n",
       "        text-align: right;\n",
       "    }\n",
       "</style>\n",
       "<table border=\"1\" class=\"dataframe\">\n",
       "  <thead>\n",
       "    <tr style=\"text-align: right;\">\n",
       "      <th>edu-three-cat</th>\n",
       "      <th>year</th>\n",
       "      <th>Advanced degree</th>\n",
       "      <th>Bachelor's degree</th>\n",
       "      <th>High school or less</th>\n",
       "    </tr>\n",
       "  </thead>\n",
       "  <tbody>\n",
       "    <tr>\n",
       "      <th>0</th>\n",
       "      <td>2007</td>\n",
       "      <td>13.490163</td>\n",
       "      <td>24.928126</td>\n",
       "      <td>61.581711</td>\n",
       "    </tr>\n",
       "    <tr>\n",
       "      <th>1</th>\n",
       "      <td>2008</td>\n",
       "      <td>14.776653</td>\n",
       "      <td>25.320222</td>\n",
       "      <td>59.903125</td>\n",
       "    </tr>\n",
       "    <tr>\n",
       "      <th>2</th>\n",
       "      <td>2009</td>\n",
       "      <td>15.518236</td>\n",
       "      <td>26.250654</td>\n",
       "      <td>58.231110</td>\n",
       "    </tr>\n",
       "    <tr>\n",
       "      <th>3</th>\n",
       "      <td>2010</td>\n",
       "      <td>16.913406</td>\n",
       "      <td>28.054425</td>\n",
       "      <td>55.032170</td>\n",
       "    </tr>\n",
       "    <tr>\n",
       "      <th>4</th>\n",
       "      <td>2011</td>\n",
       "      <td>18.469359</td>\n",
       "      <td>30.242334</td>\n",
       "      <td>51.288307</td>\n",
       "    </tr>\n",
       "    <tr>\n",
       "      <th>5</th>\n",
       "      <td>2012</td>\n",
       "      <td>21.734189</td>\n",
       "      <td>30.274753</td>\n",
       "      <td>47.991059</td>\n",
       "    </tr>\n",
       "    <tr>\n",
       "      <th>6</th>\n",
       "      <td>2013</td>\n",
       "      <td>22.547075</td>\n",
       "      <td>32.294701</td>\n",
       "      <td>45.158224</td>\n",
       "    </tr>\n",
       "    <tr>\n",
       "      <th>7</th>\n",
       "      <td>2014</td>\n",
       "      <td>25.057221</td>\n",
       "      <td>34.664167</td>\n",
       "      <td>40.278613</td>\n",
       "    </tr>\n",
       "    <tr>\n",
       "      <th>8</th>\n",
       "      <td>2015</td>\n",
       "      <td>27.994444</td>\n",
       "      <td>36.217279</td>\n",
       "      <td>35.788277</td>\n",
       "    </tr>\n",
       "    <tr>\n",
       "      <th>9</th>\n",
       "      <td>2016</td>\n",
       "      <td>27.532335</td>\n",
       "      <td>36.288458</td>\n",
       "      <td>36.179207</td>\n",
       "    </tr>\n",
       "    <tr>\n",
       "      <th>10</th>\n",
       "      <td>2017</td>\n",
       "      <td>27.657078</td>\n",
       "      <td>36.409391</td>\n",
       "      <td>35.933530</td>\n",
       "    </tr>\n",
       "    <tr>\n",
       "      <th>11</th>\n",
       "      <td>2018</td>\n",
       "      <td>30.181824</td>\n",
       "      <td>33.659499</td>\n",
       "      <td>36.158677</td>\n",
       "    </tr>\n",
       "  </tbody>\n",
       "</table>\n",
       "</div>"
      ],
      "text/plain": [
       "edu-three-cat  year  Advanced degree  Bachelor's degree  High school or less\n",
       "0              2007        13.490163          24.928126            61.581711\n",
       "1              2008        14.776653          25.320222            59.903125\n",
       "2              2009        15.518236          26.250654            58.231110\n",
       "3              2010        16.913406          28.054425            55.032170\n",
       "4              2011        18.469359          30.242334            51.288307\n",
       "5              2012        21.734189          30.274753            47.991059\n",
       "6              2013        22.547075          32.294701            45.158224\n",
       "7              2014        25.057221          34.664167            40.278613\n",
       "8              2015        27.994444          36.217279            35.788277\n",
       "9              2016        27.532335          36.288458            36.179207\n",
       "10             2017        27.657078          36.409391            35.933530\n",
       "11             2018        30.181824          33.659499            36.158677"
      ]
     },
     "execution_count": 6,
     "metadata": {},
     "output_type": "execute_result"
    }
   ],
   "source": [
    "dw_data"
   ]
  },
  {
   "cell_type": "code",
   "execution_count": 7,
   "metadata": {},
   "outputs": [
    {
     "data": {
      "text/plain": [
       "{'id': 163125,\n",
       " 'email': '',\n",
       " 'name': 'chekos',\n",
       " 'role': 'editor',\n",
       " 'language': 'en-US',\n",
       " 'chartCount': 390,\n",
       " 'url': '/v3/users/163125'}"
      ]
     },
     "execution_count": 7,
     "metadata": {},
     "output_type": "execute_result"
    }
   ],
   "source": [
    "dw = Datawrapper(\"ACCESS_CODE_GOES_HERE\")\n",
    "dw.account_info()"
   ]
  },
  {
   "cell_type": "code",
   "execution_count": 8,
   "metadata": {},
   "outputs": [
    {
     "name": "stdout",
     "output_type": "stream",
     "text": [
      "New chart d3-bars-stacked created!\n"
     ]
    }
   ],
   "source": [
    "new_chart = dw.create_chart(title = \"California's Recently Arrived Immigrants\", chart_type = 'd3-bars-stacked', data = dw_data)"
   ]
  },
  {
   "cell_type": "code",
   "execution_count": 9,
   "metadata": {},
   "outputs": [
    {
     "data": {
      "text/plain": [
       "{'title': \"California's Recently Arrived Immigrants\",\n",
       " 'theme': 'default',\n",
       " 'type': 'd3-bars-stacked',\n",
       " 'language': 'en-US',\n",
       " 'metadata': {'data': {}},\n",
       " 'authorId': 163125,\n",
       " 'id': '353il',\n",
       " 'lastModifiedAt': '2020-01-10T22:09:42.507Z',\n",
       " 'createdAt': '2020-01-10T22:09:42.507Z',\n",
       " 'url': '/v3/charts/353il'}"
      ]
     },
     "execution_count": 9,
     "metadata": {},
     "output_type": "execute_result"
    }
   ],
   "source": [
    "new_chart"
   ]
  },
  {
   "cell_type": "code",
   "execution_count": 10,
   "metadata": {},
   "outputs": [
    {
     "name": "stdout",
     "output_type": "stream",
     "text": [
      "Chart updated!\n"
     ]
    }
   ],
   "source": [
    "dw.update_description(\n",
    "    new_chart['id'],\n",
    "    source_name = 'IPUMS',\n",
    "    source_url = 'https://ipums.org',\n",
    "    byline = 'Sergio Sánchez',\n",
    ")"
   ]
  },
  {
   "cell_type": "code",
   "execution_count": 11,
   "metadata": {},
   "outputs": [
    {
     "name": "stderr",
     "output_type": "stream",
     "text": [
      "/srv/conda/envs/notebook/lib/python3.7/site-packages/IPython/core/display.py:694: UserWarning: Consider using IPython.display.IFrame instead\n",
      "  warnings.warn(\"Consider using IPython.display.IFrame instead\")\n"
     ]
    },
    {
     "data": {
      "text/html": [
       "<iframe title=\"California's Recently Arrived Immigrants\" aria-label=\"Stacked Bars\" src=\"//datawrapper.dwcdn.net/353il/1/\" scrolling=\"no\" frameborder=\"0\" style=\"border: none;\" width=\"600\" height=\"400\"></iframe>"
      ],
      "text/plain": [
       "<IPython.core.display.HTML object>"
      ]
     },
     "execution_count": 11,
     "metadata": {},
     "output_type": "execute_result"
    }
   ],
   "source": [
    "dw.publish_chart(chart_id = new_chart['id'])"
   ]
  },
  {
   "cell_type": "code",
   "execution_count": 12,
   "metadata": {},
   "outputs": [
    {
     "name": "stdout",
     "output_type": "stream",
     "text": [
      "Chart's metadata updated!\n"
     ]
    }
   ],
   "source": [
    "properties = {\n",
    "    'visualize' : {\n",
    "        'thick': True,\n",
    "        'custom-colors': {\n",
    "            'Advanced degree': '#15607a',\n",
    "            \"Bachelor's degree\": '#1d81a2',\n",
    "            'High school or less': '#dadada'\n",
    "        },\n",
    "    }\n",
    "}\n",
    "dw.update_metadata(new_chart['id'], properties)"
   ]
  },
  {
   "cell_type": "code",
   "execution_count": 13,
   "metadata": {},
   "outputs": [
    {
     "data": {
      "text/html": [
       "<iframe title=\"California's Recently Arrived Immigrants\" aria-label=\"Stacked Bars\" src=\"//datawrapper.dwcdn.net/353il/2/\" scrolling=\"no\" frameborder=\"0\" style=\"border: none;\" width=\"600\" height=\"400\"></iframe>"
      ],
      "text/plain": [
       "<IPython.core.display.HTML object>"
      ]
     },
     "execution_count": 13,
     "metadata": {},
     "output_type": "execute_result"
    }
   ],
   "source": [
    "dw.publish_chart(new_chart['id'])"
   ]
  },
  {
   "cell_type": "code",
   "execution_count": 14,
   "metadata": {},
   "outputs": [
    {
     "data": {
      "text/html": [
       "<iframe title=\"Map: SNAP Households\" aria-describedby=\"Percent of households receiving SNAP benefits.\" src=\"//datawrapper.dwcdn.net/UIvOg/6/\" scrolling=\"no\" frameborder=\"0\" width=\"921\" height=\"800\"></iframe>"
      ],
      "text/plain": [
       "<IPython.core.display.HTML object>"
      ]
     },
     "execution_count": 14,
     "metadata": {},
     "output_type": "execute_result"
    }
   ],
   "source": [
    "dw.display_chart(\"UIvOg\")"
   ]
  },
  {
   "cell_type": "code",
   "execution_count": 15,
   "metadata": {},
   "outputs": [
    {
     "data": {
      "text/plain": [
       "{'id': '353il',\n",
       " 'type': 'd3-bars-stacked',\n",
       " 'title': \"California's Recently Arrived Immigrants\",\n",
       " 'theme': 'default',\n",
       " 'lastEditStep': 5,\n",
       " 'publishedAt': '2020-01-10T22:10:01.000Z',\n",
       " 'publicUrl': '//datawrapper.dwcdn.net/353il/2/',\n",
       " 'publicVersion': 2,\n",
       " 'deleted': False,\n",
       " 'deletedAt': None,\n",
       " 'forkable': False,\n",
       " 'isFork': False,\n",
       " 'metadata': {'data': {'transpose': False,\n",
       "   'vertical-header': True,\n",
       "   'horizontal-header': True},\n",
       "  'publish': {'embed-codes': {'embed-method-iframe': '<iframe title=\"California\\'s Recently Arrived Immigrants\" aria-label=\"Stacked Bars\" src=\"//datawrapper.dwcdn.net/353il/2/\" scrolling=\"no\" frameborder=\"0\" style=\"border: none;\" width=\"600\" height=\"400\"></iframe>',\n",
       "    'embed-method-responsive': '<iframe title=\"California\\'s Recently Arrived Immigrants\" aria-label=\"Stacked Bars\" id=\"datawrapper-chart-353il\" src=\"//datawrapper.dwcdn.net/353il/2/\" scrolling=\"no\" frameborder=\"0\" style=\"width: 0; min-width: 100% !important; border: none;\" height=\"400\"></iframe><script type=\"text/javascript\">!function(){\"use strict\";window.addEventListener(\"message\",function(a){if(void 0!==a.data[\"datawrapper-height\"])for(var e in a.data[\"datawrapper-height\"]){var t=document.getElementById(\"datawrapper-chart-\"+e)||document.querySelector(\"iframe[src*=\\'\"+e+\"\\']\");t&&(t.style.height=a.data[\"datawrapper-height\"][e]+\"px\")}})}();\\n</script>'},\n",
       "   'embed-width': 600,\n",
       "   'embed-height': 400},\n",
       "  'annotate': {'notes': ''},\n",
       "  'describe': {'intro': '',\n",
       "   'byline': 'Sergio Sánchez',\n",
       "   'source-url': 'https://ipums.org',\n",
       "   'source-name': 'IPUMS',\n",
       "   'number-append': '',\n",
       "   'number-format': '-',\n",
       "   'number-divisor': 0,\n",
       "   'number-prepend': ''},\n",
       "  'visualize': {'thick': True,\n",
       "   'custom-colors': {'Advanced degree': '#15607a',\n",
       "    \"Bachelor's degree\": '#1d81a2',\n",
       "    'High school or less': '#dadada'},\n",
       "   'highlighted-series': [],\n",
       "   'highlighted-values': []},\n",
       "  'json_error': None},\n",
       " 'language': 'en-US',\n",
       " 'externalData': None,\n",
       " 'utf8': False,\n",
       " 'createdAt': '2020-01-10T22:09:42.000Z',\n",
       " 'lastModifiedAt': '2020-01-10T22:09:56.000Z',\n",
       " 'forkedFrom': None,\n",
       " 'organizationId': None,\n",
       " 'authorId': 163125,\n",
       " 'folderId': None,\n",
       " 'url': '/v3/charts/353il'}"
      ]
     },
     "execution_count": 15,
     "metadata": {},
     "output_type": "execute_result"
    }
   ],
   "source": [
    "dw.chart_properties(new_chart['id'])"
   ]
  },
  {
   "cell_type": "code",
   "execution_count": 16,
   "metadata": {},
   "outputs": [
    {
     "data": {
      "text/plain": [
       "{'status': 'ok',\n",
       " 'data': [{'type': 'user',\n",
       "   'folders': [{'id': 9934,\n",
       "     'name': 'Coneval 2015',\n",
       "     'parent': None,\n",
       "     'user': 163125,\n",
       "     'organization': None,\n",
       "     'type': 'user',\n",
       "     'charts': 5},\n",
       "    {'id': 10602,\n",
       "     'name': 'PPIC Statewide Survey',\n",
       "     'parent': None,\n",
       "     'user': 163125,\n",
       "     'organization': None,\n",
       "     'type': 'user',\n",
       "     'charts': 5},\n",
       "    {'id': 13828,\n",
       "     'name': 'recently arrived immigrants',\n",
       "     'parent': None,\n",
       "     'user': 163125,\n",
       "     'organization': None,\n",
       "     'type': 'user',\n",
       "     'charts': 0},\n",
       "    {'id': 13829,\n",
       "     'name': 'datawrapper-guestblogpost',\n",
       "     'parent': None,\n",
       "     'user': 163125,\n",
       "     'organization': None,\n",
       "     'type': 'user',\n",
       "     'charts': 0},\n",
       "    {'id': 13942,\n",
       "     'name': 'datawrapper-blog',\n",
       "     'parent': None,\n",
       "     'user': 163125,\n",
       "     'organization': None,\n",
       "     'type': 'user',\n",
       "     'charts': 0}],\n",
       "   'charts': 49}]}"
      ]
     },
     "execution_count": 16,
     "metadata": {},
     "output_type": "execute_result"
    }
   ],
   "source": [
    "dw.get_folders()"
   ]
  },
  {
   "cell_type": "code",
   "execution_count": 17,
   "metadata": {},
   "outputs": [
    {
     "data": {
      "text/plain": [
       "array(['Los Angeles', 'San Joaquin', 'Riverside', 'Santa Barbara',\n",
       "       'San Diego', 'Santa Clara', 'San Mateo', 'San Francisco',\n",
       "       'Contra Costa', 'Orange', 'Alameda', 'Santa Cruz', 'Merced',\n",
       "       'San Bernardino', 'Fresno', 'Butte', 'Kern', 'Imperial', 'Solano',\n",
       "       'Placer', 'Ventura', 'Stanislaus', 'Tulare', nan, 'Sacramento',\n",
       "       'Sonoma', 'Marin', 'Kings', 'Yolo', 'El Dorado', 'Napa',\n",
       "       'San Luis Obispo', 'Madera', 'Humboldt', 'Shasta'], dtype=object)"
      ]
     },
     "execution_count": 17,
     "metadata": {},
     "output_type": "execute_result"
    }
   ],
   "source": [
    "data['county'].unique()"
   ]
  },
  {
   "cell_type": "code",
   "execution_count": 18,
   "metadata": {},
   "outputs": [
    {
     "name": "stdout",
     "output_type": "stream",
     "text": [
      "New chart d3-bars-stacked created!\n",
      "Chart updated!\n",
      "Chart's metadata updated!\n",
      "New chart d3-bars-stacked created!\n",
      "Chart updated!\n",
      "Chart's metadata updated!\n",
      "New chart d3-bars-stacked created!\n",
      "Chart updated!\n",
      "Chart's metadata updated!\n",
      "New chart d3-bars-stacked created!\n",
      "Chart updated!\n",
      "Chart's metadata updated!\n",
      "New chart d3-bars-stacked created!\n",
      "Chart updated!\n",
      "Chart's metadata updated!\n",
      "New chart d3-bars-stacked created!\n",
      "Chart updated!\n",
      "Chart's metadata updated!\n",
      "New chart d3-bars-stacked created!\n",
      "Chart updated!\n",
      "Chart's metadata updated!\n",
      "New chart d3-bars-stacked created!\n",
      "Chart updated!\n",
      "Chart's metadata updated!\n",
      "New chart d3-bars-stacked created!\n",
      "Chart updated!\n",
      "Chart's metadata updated!\n",
      "New chart d3-bars-stacked created!\n",
      "Chart updated!\n",
      "Chart's metadata updated!\n",
      "New chart d3-bars-stacked created!\n",
      "Chart updated!\n",
      "Chart's metadata updated!\n",
      "New chart d3-bars-stacked created!\n",
      "Chart updated!\n",
      "Chart's metadata updated!\n",
      "New chart d3-bars-stacked created!\n",
      "Chart updated!\n",
      "Chart's metadata updated!\n",
      "New chart d3-bars-stacked created!\n",
      "Chart updated!\n",
      "Chart's metadata updated!\n",
      "New chart d3-bars-stacked created!\n",
      "Chart updated!\n",
      "Chart's metadata updated!\n",
      "New chart d3-bars-stacked created!\n",
      "Chart updated!\n",
      "Chart's metadata updated!\n",
      "New chart d3-bars-stacked created!\n",
      "Chart updated!\n",
      "Chart's metadata updated!\n",
      "New chart d3-bars-stacked created!\n",
      "Chart updated!\n",
      "Chart's metadata updated!\n",
      "New chart d3-bars-stacked created!\n",
      "Chart updated!\n",
      "Chart's metadata updated!\n",
      "New chart d3-bars-stacked created!\n",
      "Chart updated!\n",
      "Chart's metadata updated!\n",
      "New chart d3-bars-stacked created!\n",
      "Chart updated!\n",
      "Chart's metadata updated!\n",
      "New chart d3-bars-stacked created!\n",
      "Chart updated!\n",
      "Chart's metadata updated!\n",
      "New chart d3-bars-stacked created!\n",
      "Chart updated!\n",
      "Chart's metadata updated!\n",
      "New chart d3-bars-stacked created!\n",
      "Chart updated!\n",
      "Chart's metadata updated!\n",
      "Skipping! Null value.\n",
      "New chart d3-bars-stacked created!\n",
      "Chart updated!\n",
      "Chart's metadata updated!\n",
      "New chart d3-bars-stacked created!\n",
      "Chart updated!\n",
      "Chart's metadata updated!\n",
      "New chart d3-bars-stacked created!\n",
      "Chart updated!\n",
      "Chart's metadata updated!\n",
      "New chart d3-bars-stacked created!\n",
      "Chart updated!\n",
      "Chart's metadata updated!\n",
      "New chart d3-bars-stacked created!\n",
      "Chart updated!\n",
      "Chart's metadata updated!\n",
      "New chart d3-bars-stacked created!\n",
      "Chart updated!\n",
      "Chart's metadata updated!\n",
      "New chart d3-bars-stacked created!\n",
      "Chart updated!\n",
      "Chart's metadata updated!\n",
      "New chart d3-bars-stacked created!\n",
      "Chart updated!\n",
      "Chart's metadata updated!\n",
      "New chart d3-bars-stacked created!\n",
      "Chart updated!\n",
      "Chart's metadata updated!\n",
      "New chart d3-bars-stacked created!\n",
      "Chart updated!\n",
      "Chart's metadata updated!\n",
      "New chart d3-bars-stacked created!\n",
      "Chart updated!\n",
      "Chart's metadata updated!\n"
     ]
    }
   ],
   "source": [
    "properties = {\n",
    "    'visualize' : {\n",
    "        'thick': True,\n",
    "        'custom-colors': {\n",
    "            'Advanced degree': '#15607a',\n",
    "            \"Bachelor's degree\": '#1d81a2',\n",
    "            'High school or less': '#dadada'\n",
    "        },\n",
    "    }\n",
    "}\n",
    "# california \n",
    "dw_data = data.pivot_table(columns = 'edu-three-cat', index = 'year', values = 'perwt', aggfunc='sum')\n",
    "dw_data = dw_data.apply(lambda x: (x / x.sum()) * 100, axis = 1)\n",
    "dw_data.reset_index(inplace = True)\n",
    "california_chart = dw.create_chart(title = f\"California recently arrived immigrants\", chart_type = \"d3-bars-stacked\", data = dw_data, folder_id=13942)\n",
    "dw.update_description(\n",
    "    california_chart['id'],\n",
    "    source_name = 'IPUMS',\n",
    "    source_url = 'https://ipums.org/',\n",
    "    byline = 'Sergio Sanchez',\n",
    ")\n",
    "dw.update_metadata(california_chart['id'], properties)\n",
    "dw.publish_chart(california_chart['id'], display = False) \n",
    "\n",
    "# For each county\n",
    "for county in data['county'].unique():\n",
    "    if pd.notna(county):\n",
    "    # prep data\n",
    "        mask_county = data['county'] == county\n",
    "        dw_data = data[mask_county].pivot_table(columns = 'edu-three-cat', index = 'year', values = 'perwt', aggfunc='sum')\n",
    "        dw_data = dw_data.apply(lambda x: (x / x.sum()) * 100, axis = 1)\n",
    "        dw_data.reset_index(inplace = True)\n",
    "        # publish chart\n",
    "        county_chart = dw.create_chart(title = f\"{county} recently arrived immigrants\", chart_type = \"d3-bars-stacked\", data = dw_data, folder_id=13942)\n",
    "        dw.update_description(\n",
    "            county_chart['id'],\n",
    "            source_name = 'IPUMS',\n",
    "            source_url = 'https://ipums.org/',\n",
    "            byline = 'Sergio Sanchez',\n",
    "        )\n",
    "        dw.update_metadata(county_chart['id'], properties)\n",
    "        dw.publish_chart(county_chart['id'], display = False)\n",
    "    else:\n",
    "        print(\"Skipping! Null value.\")"
   ]
  },
  {
   "cell_type": "code",
   "execution_count": 19,
   "metadata": {},
   "outputs": [],
   "source": [
    "from pathlib import Path\n",
    "Path(\"./charts/\").mkdir()"
   ]
  },
  {
   "cell_type": "code",
   "execution_count": 22,
   "metadata": {},
   "outputs": [],
   "source": [
    "iframe_codes = []\n",
    "for chart in dw.get_charts(search = \"recently arrived immigrants\", limit = 37):\n",
    "    iframe_codes.append(dw.get_iframe_code(chart['id']))"
   ]
  },
  {
   "cell_type": "code",
   "execution_count": 23,
   "metadata": {},
   "outputs": [],
   "source": [
    "from IPython.display import HTML"
   ]
  },
  {
   "cell_type": "code",
   "execution_count": 24,
   "metadata": {},
   "outputs": [],
   "source": [
    "divs = [f'<div>{iframe_code}</div>' for iframe_code in iframe_codes]\n",
    "divs = \"\".join(divs)"
   ]
  },
  {
   "cell_type": "code",
   "execution_count": 25,
   "metadata": {},
   "outputs": [
    {
     "data": {
      "text/plain": [
       "'<div><iframe title=\"Shasta recently arrived immigrants\" aria-label=\"Stacked Bars\" src=\"//datawrapper.dwcdn.net/JZ227/1/\" scrolling=\"no\" frameborder=\"0\" style=\"border: none;\" width=\"600\" height=\"400\"></iframe></div><div><iframe title=\"Humboldt recently arrived immigrants\" aria-label=\"Stacked Bars\" src=\"//datawrapper.dwcdn.net/f08pv/1/\" scrolling=\"no\" frameborder=\"0\" style=\"border: none;\" width=\"600\" height=\"400\"></iframe></div><div><iframe title=\"Madera recently arrived immigrants\" aria-label=\"Stacked Bars\" src=\"//datawrapper.dwcdn.net/Ol2rE/1/\" scrolling=\"no\" frameborder=\"0\" style=\"border: none;\" width=\"600\" height=\"400\"></iframe></div><div><iframe title=\"San Luis Obispo recently arrived immigrants\" aria-label=\"Stacked Bars\" src=\"//datawrapper.dwcdn.net/WvePL/1/\" scrolling=\"no\" frameborder=\"0\" style=\"border: none;\" width=\"600\" height=\"400\"></iframe></div><div><iframe title=\"Napa recently arrived immigrants\" aria-label=\"Stacked Bars\" src=\"//datawrapper.dwcdn.net/VLxac/1/\" scrolling=\"no\" frameborder=\"0\" style=\"border: none;\" width=\"600\" height=\"400\"></iframe></div><div><iframe title=\"El Dorado recently arrived immigrants\" aria-label=\"Stacked Bars\" src=\"//datawrapper.dwcdn.net/JSSqo/1/\" scrolling=\"no\" frameborder=\"0\" style=\"border: none;\" width=\"600\" height=\"400\"></iframe></div><div><iframe title=\"Yolo recently arrived immigrants\" aria-label=\"Stacked Bars\" src=\"//datawrapper.dwcdn.net/DNCrm/1/\" scrolling=\"no\" frameborder=\"0\" style=\"border: none;\" width=\"600\" height=\"400\"></iframe></div><div><iframe title=\"Kings recently arrived immigrants\" aria-label=\"Stacked Bars\" src=\"//datawrapper.dwcdn.net/q5Qzu/1/\" scrolling=\"no\" frameborder=\"0\" style=\"border: none;\" width=\"600\" height=\"400\"></iframe></div><div><iframe title=\"Marin recently arrived immigrants\" aria-label=\"Stacked Bars\" src=\"//datawrapper.dwcdn.net/GpnC5/1/\" scrolling=\"no\" frameborder=\"0\" style=\"border: none;\" width=\"600\" height=\"400\"></iframe></div><div><iframe title=\"Sonoma recently arrived immigrants\" aria-label=\"Stacked Bars\" src=\"//datawrapper.dwcdn.net/RH6XV/1/\" scrolling=\"no\" frameborder=\"0\" style=\"border: none;\" width=\"600\" height=\"400\"></iframe></div><div><iframe title=\"Sacramento recently arrived immigrants\" aria-label=\"Stacked Bars\" src=\"//datawrapper.dwcdn.net/LqzEl/1/\" scrolling=\"no\" frameborder=\"0\" style=\"border: none;\" width=\"600\" height=\"400\"></iframe></div><div><iframe title=\"Tulare recently arrived immigrants\" aria-label=\"Stacked Bars\" src=\"//datawrapper.dwcdn.net/AU1ky/1/\" scrolling=\"no\" frameborder=\"0\" style=\"border: none;\" width=\"600\" height=\"400\"></iframe></div><div><iframe title=\"Stanislaus recently arrived immigrants\" aria-label=\"Stacked Bars\" src=\"//datawrapper.dwcdn.net/qwyQP/1/\" scrolling=\"no\" frameborder=\"0\" style=\"border: none;\" width=\"600\" height=\"400\"></iframe></div><div><iframe title=\"Ventura recently arrived immigrants\" aria-label=\"Stacked Bars\" src=\"//datawrapper.dwcdn.net/S2Ozp/1/\" scrolling=\"no\" frameborder=\"0\" style=\"border: none;\" width=\"600\" height=\"400\"></iframe></div><div><iframe title=\"Placer recently arrived immigrants\" aria-label=\"Stacked Bars\" src=\"//datawrapper.dwcdn.net/cEC9W/1/\" scrolling=\"no\" frameborder=\"0\" style=\"border: none;\" width=\"600\" height=\"400\"></iframe></div><div><iframe title=\"Solano recently arrived immigrants\" aria-label=\"Stacked Bars\" src=\"//datawrapper.dwcdn.net/1x8Rn/1/\" scrolling=\"no\" frameborder=\"0\" style=\"border: none;\" width=\"600\" height=\"400\"></iframe></div><div><iframe title=\"Imperial recently arrived immigrants\" aria-label=\"Stacked Bars\" src=\"//datawrapper.dwcdn.net/LDTgY/1/\" scrolling=\"no\" frameborder=\"0\" style=\"border: none;\" width=\"600\" height=\"400\"></iframe></div><div><iframe title=\"Kern recently arrived immigrants\" aria-label=\"Stacked Bars\" src=\"//datawrapper.dwcdn.net/j65qp/1/\" scrolling=\"no\" frameborder=\"0\" style=\"border: none;\" width=\"600\" height=\"400\"></iframe></div><div><iframe title=\"Butte recently arrived immigrants\" aria-label=\"Stacked Bars\" src=\"//datawrapper.dwcdn.net/kuscC/1/\" scrolling=\"no\" frameborder=\"0\" style=\"border: none;\" width=\"600\" height=\"400\"></iframe></div><div><iframe title=\"Fresno recently arrived immigrants\" aria-label=\"Stacked Bars\" src=\"//datawrapper.dwcdn.net/0bv3q/1/\" scrolling=\"no\" frameborder=\"0\" style=\"border: none;\" width=\"600\" height=\"400\"></iframe></div><div><iframe title=\"San Bernardino recently arrived immigrants\" aria-label=\"Stacked Bars\" src=\"//datawrapper.dwcdn.net/BpQ3c/1/\" scrolling=\"no\" frameborder=\"0\" style=\"border: none;\" width=\"600\" height=\"400\"></iframe></div><div><iframe title=\"Merced recently arrived immigrants\" aria-label=\"Stacked Bars\" src=\"//datawrapper.dwcdn.net/hib3p/1/\" scrolling=\"no\" frameborder=\"0\" style=\"border: none;\" width=\"600\" height=\"400\"></iframe></div><div><iframe title=\"Santa Cruz recently arrived immigrants\" aria-label=\"Stacked Bars\" src=\"//datawrapper.dwcdn.net/XvPUP/1/\" scrolling=\"no\" frameborder=\"0\" style=\"border: none;\" width=\"600\" height=\"400\"></iframe></div><div><iframe title=\"Alameda recently arrived immigrants\" aria-label=\"Stacked Bars\" src=\"//datawrapper.dwcdn.net/MKc2J/1/\" scrolling=\"no\" frameborder=\"0\" style=\"border: none;\" width=\"600\" height=\"400\"></iframe></div><div><iframe title=\"Orange recently arrived immigrants\" aria-label=\"Stacked Bars\" src=\"//datawrapper.dwcdn.net/bKQSS/1/\" scrolling=\"no\" frameborder=\"0\" style=\"border: none;\" width=\"600\" height=\"400\"></iframe></div><div><iframe title=\"Contra Costa recently arrived immigrants\" aria-label=\"Stacked Bars\" src=\"//datawrapper.dwcdn.net/0GNCN/1/\" scrolling=\"no\" frameborder=\"0\" style=\"border: none;\" width=\"600\" height=\"400\"></iframe></div><div><iframe title=\"San Francisco recently arrived immigrants\" aria-label=\"Stacked Bars\" src=\"//datawrapper.dwcdn.net/fECMp/1/\" scrolling=\"no\" frameborder=\"0\" style=\"border: none;\" width=\"600\" height=\"400\"></iframe></div><div><iframe title=\"San Mateo recently arrived immigrants\" aria-label=\"Stacked Bars\" src=\"//datawrapper.dwcdn.net/02hgP/1/\" scrolling=\"no\" frameborder=\"0\" style=\"border: none;\" width=\"600\" height=\"400\"></iframe></div><div><iframe title=\"Santa Clara recently arrived immigrants\" aria-label=\"Stacked Bars\" src=\"//datawrapper.dwcdn.net/b8pV2/1/\" scrolling=\"no\" frameborder=\"0\" style=\"border: none;\" width=\"600\" height=\"400\"></iframe></div><div><iframe title=\"San Diego recently arrived immigrants\" aria-label=\"Stacked Bars\" src=\"//datawrapper.dwcdn.net/N5ssA/1/\" scrolling=\"no\" frameborder=\"0\" style=\"border: none;\" width=\"600\" height=\"400\"></iframe></div><div><iframe title=\"Santa Barbara recently arrived immigrants\" aria-label=\"Stacked Bars\" src=\"//datawrapper.dwcdn.net/ocxU3/1/\" scrolling=\"no\" frameborder=\"0\" style=\"border: none;\" width=\"600\" height=\"400\"></iframe></div><div><iframe title=\"Riverside recently arrived immigrants\" aria-label=\"Stacked Bars\" src=\"//datawrapper.dwcdn.net/jrD1A/1/\" scrolling=\"no\" frameborder=\"0\" style=\"border: none;\" width=\"600\" height=\"400\"></iframe></div><div><iframe title=\"San Joaquin recently arrived immigrants\" aria-label=\"Stacked Bars\" src=\"//datawrapper.dwcdn.net/gJFLa/1/\" scrolling=\"no\" frameborder=\"0\" style=\"border: none;\" width=\"600\" height=\"400\"></iframe></div><div><iframe title=\"Los Angeles recently arrived immigrants\" aria-label=\"Stacked Bars\" src=\"//datawrapper.dwcdn.net/202fz/1/\" scrolling=\"no\" frameborder=\"0\" style=\"border: none;\" width=\"600\" height=\"400\"></iframe></div><div><iframe title=\"California recently arrived immigrants\" aria-label=\"Stacked Bars\" src=\"//datawrapper.dwcdn.net/999FD/1/\" scrolling=\"no\" frameborder=\"0\" style=\"border: none;\" width=\"600\" height=\"400\"></iframe></div><div><iframe title=\"California\\'s Recently Arrived Immigrants\" aria-label=\"Stacked Bars\" src=\"//datawrapper.dwcdn.net/353il/2/\" scrolling=\"no\" frameborder=\"0\" style=\"border: none;\" width=\"600\" height=\"400\"></iframe></div><div><iframe title=\"California\\'s Recently Arrived Immigrants\" aria-label=\"Stacked Bars\" src=\"//datawrapper.dwcdn.net/bG8Oi/3/\" scrolling=\"no\" frameborder=\"0\" style=\"border: none;\" width=\"600\" height=\"400\"></iframe></div>'"
      ]
     },
     "execution_count": 25,
     "metadata": {},
     "output_type": "execute_result"
    }
   ],
   "source": [
    "divs"
   ]
  },
  {
   "cell_type": "code",
   "execution_count": 26,
   "metadata": {},
   "outputs": [
    {
     "data": {
      "text/html": [
       "<div style='float:left'><div><iframe title=\"Shasta recently arrived immigrants\" aria-label=\"Stacked Bars\" src=\"//datawrapper.dwcdn.net/JZ227/1/\" scrolling=\"no\" frameborder=\"0\" style=\"border: none;\" width=\"600\" height=\"400\"></iframe></div><div><iframe title=\"Humboldt recently arrived immigrants\" aria-label=\"Stacked Bars\" src=\"//datawrapper.dwcdn.net/f08pv/1/\" scrolling=\"no\" frameborder=\"0\" style=\"border: none;\" width=\"600\" height=\"400\"></iframe></div><div><iframe title=\"Madera recently arrived immigrants\" aria-label=\"Stacked Bars\" src=\"//datawrapper.dwcdn.net/Ol2rE/1/\" scrolling=\"no\" frameborder=\"0\" style=\"border: none;\" width=\"600\" height=\"400\"></iframe></div><div><iframe title=\"San Luis Obispo recently arrived immigrants\" aria-label=\"Stacked Bars\" src=\"//datawrapper.dwcdn.net/WvePL/1/\" scrolling=\"no\" frameborder=\"0\" style=\"border: none;\" width=\"600\" height=\"400\"></iframe></div><div><iframe title=\"Napa recently arrived immigrants\" aria-label=\"Stacked Bars\" src=\"//datawrapper.dwcdn.net/VLxac/1/\" scrolling=\"no\" frameborder=\"0\" style=\"border: none;\" width=\"600\" height=\"400\"></iframe></div><div><iframe title=\"El Dorado recently arrived immigrants\" aria-label=\"Stacked Bars\" src=\"//datawrapper.dwcdn.net/JSSqo/1/\" scrolling=\"no\" frameborder=\"0\" style=\"border: none;\" width=\"600\" height=\"400\"></iframe></div><div><iframe title=\"Yolo recently arrived immigrants\" aria-label=\"Stacked Bars\" src=\"//datawrapper.dwcdn.net/DNCrm/1/\" scrolling=\"no\" frameborder=\"0\" style=\"border: none;\" width=\"600\" height=\"400\"></iframe></div><div><iframe title=\"Kings recently arrived immigrants\" aria-label=\"Stacked Bars\" src=\"//datawrapper.dwcdn.net/q5Qzu/1/\" scrolling=\"no\" frameborder=\"0\" style=\"border: none;\" width=\"600\" height=\"400\"></iframe></div><div><iframe title=\"Marin recently arrived immigrants\" aria-label=\"Stacked Bars\" src=\"//datawrapper.dwcdn.net/GpnC5/1/\" scrolling=\"no\" frameborder=\"0\" style=\"border: none;\" width=\"600\" height=\"400\"></iframe></div><div><iframe title=\"Sonoma recently arrived immigrants\" aria-label=\"Stacked Bars\" src=\"//datawrapper.dwcdn.net/RH6XV/1/\" scrolling=\"no\" frameborder=\"0\" style=\"border: none;\" width=\"600\" height=\"400\"></iframe></div><div><iframe title=\"Sacramento recently arrived immigrants\" aria-label=\"Stacked Bars\" src=\"//datawrapper.dwcdn.net/LqzEl/1/\" scrolling=\"no\" frameborder=\"0\" style=\"border: none;\" width=\"600\" height=\"400\"></iframe></div><div><iframe title=\"Tulare recently arrived immigrants\" aria-label=\"Stacked Bars\" src=\"//datawrapper.dwcdn.net/AU1ky/1/\" scrolling=\"no\" frameborder=\"0\" style=\"border: none;\" width=\"600\" height=\"400\"></iframe></div><div><iframe title=\"Stanislaus recently arrived immigrants\" aria-label=\"Stacked Bars\" src=\"//datawrapper.dwcdn.net/qwyQP/1/\" scrolling=\"no\" frameborder=\"0\" style=\"border: none;\" width=\"600\" height=\"400\"></iframe></div><div><iframe title=\"Ventura recently arrived immigrants\" aria-label=\"Stacked Bars\" src=\"//datawrapper.dwcdn.net/S2Ozp/1/\" scrolling=\"no\" frameborder=\"0\" style=\"border: none;\" width=\"600\" height=\"400\"></iframe></div><div><iframe title=\"Placer recently arrived immigrants\" aria-label=\"Stacked Bars\" src=\"//datawrapper.dwcdn.net/cEC9W/1/\" scrolling=\"no\" frameborder=\"0\" style=\"border: none;\" width=\"600\" height=\"400\"></iframe></div><div><iframe title=\"Solano recently arrived immigrants\" aria-label=\"Stacked Bars\" src=\"//datawrapper.dwcdn.net/1x8Rn/1/\" scrolling=\"no\" frameborder=\"0\" style=\"border: none;\" width=\"600\" height=\"400\"></iframe></div><div><iframe title=\"Imperial recently arrived immigrants\" aria-label=\"Stacked Bars\" src=\"//datawrapper.dwcdn.net/LDTgY/1/\" scrolling=\"no\" frameborder=\"0\" style=\"border: none;\" width=\"600\" height=\"400\"></iframe></div><div><iframe title=\"Kern recently arrived immigrants\" aria-label=\"Stacked Bars\" src=\"//datawrapper.dwcdn.net/j65qp/1/\" scrolling=\"no\" frameborder=\"0\" style=\"border: none;\" width=\"600\" height=\"400\"></iframe></div><div><iframe title=\"Butte recently arrived immigrants\" aria-label=\"Stacked Bars\" src=\"//datawrapper.dwcdn.net/kuscC/1/\" scrolling=\"no\" frameborder=\"0\" style=\"border: none;\" width=\"600\" height=\"400\"></iframe></div><div><iframe title=\"Fresno recently arrived immigrants\" aria-label=\"Stacked Bars\" src=\"//datawrapper.dwcdn.net/0bv3q/1/\" scrolling=\"no\" frameborder=\"0\" style=\"border: none;\" width=\"600\" height=\"400\"></iframe></div><div><iframe title=\"San Bernardino recently arrived immigrants\" aria-label=\"Stacked Bars\" src=\"//datawrapper.dwcdn.net/BpQ3c/1/\" scrolling=\"no\" frameborder=\"0\" style=\"border: none;\" width=\"600\" height=\"400\"></iframe></div><div><iframe title=\"Merced recently arrived immigrants\" aria-label=\"Stacked Bars\" src=\"//datawrapper.dwcdn.net/hib3p/1/\" scrolling=\"no\" frameborder=\"0\" style=\"border: none;\" width=\"600\" height=\"400\"></iframe></div><div><iframe title=\"Santa Cruz recently arrived immigrants\" aria-label=\"Stacked Bars\" src=\"//datawrapper.dwcdn.net/XvPUP/1/\" scrolling=\"no\" frameborder=\"0\" style=\"border: none;\" width=\"600\" height=\"400\"></iframe></div><div><iframe title=\"Alameda recently arrived immigrants\" aria-label=\"Stacked Bars\" src=\"//datawrapper.dwcdn.net/MKc2J/1/\" scrolling=\"no\" frameborder=\"0\" style=\"border: none;\" width=\"600\" height=\"400\"></iframe></div><div><iframe title=\"Orange recently arrived immigrants\" aria-label=\"Stacked Bars\" src=\"//datawrapper.dwcdn.net/bKQSS/1/\" scrolling=\"no\" frameborder=\"0\" style=\"border: none;\" width=\"600\" height=\"400\"></iframe></div><div><iframe title=\"Contra Costa recently arrived immigrants\" aria-label=\"Stacked Bars\" src=\"//datawrapper.dwcdn.net/0GNCN/1/\" scrolling=\"no\" frameborder=\"0\" style=\"border: none;\" width=\"600\" height=\"400\"></iframe></div><div><iframe title=\"San Francisco recently arrived immigrants\" aria-label=\"Stacked Bars\" src=\"//datawrapper.dwcdn.net/fECMp/1/\" scrolling=\"no\" frameborder=\"0\" style=\"border: none;\" width=\"600\" height=\"400\"></iframe></div><div><iframe title=\"San Mateo recently arrived immigrants\" aria-label=\"Stacked Bars\" src=\"//datawrapper.dwcdn.net/02hgP/1/\" scrolling=\"no\" frameborder=\"0\" style=\"border: none;\" width=\"600\" height=\"400\"></iframe></div><div><iframe title=\"Santa Clara recently arrived immigrants\" aria-label=\"Stacked Bars\" src=\"//datawrapper.dwcdn.net/b8pV2/1/\" scrolling=\"no\" frameborder=\"0\" style=\"border: none;\" width=\"600\" height=\"400\"></iframe></div><div><iframe title=\"San Diego recently arrived immigrants\" aria-label=\"Stacked Bars\" src=\"//datawrapper.dwcdn.net/N5ssA/1/\" scrolling=\"no\" frameborder=\"0\" style=\"border: none;\" width=\"600\" height=\"400\"></iframe></div><div><iframe title=\"Santa Barbara recently arrived immigrants\" aria-label=\"Stacked Bars\" src=\"//datawrapper.dwcdn.net/ocxU3/1/\" scrolling=\"no\" frameborder=\"0\" style=\"border: none;\" width=\"600\" height=\"400\"></iframe></div><div><iframe title=\"Riverside recently arrived immigrants\" aria-label=\"Stacked Bars\" src=\"//datawrapper.dwcdn.net/jrD1A/1/\" scrolling=\"no\" frameborder=\"0\" style=\"border: none;\" width=\"600\" height=\"400\"></iframe></div><div><iframe title=\"San Joaquin recently arrived immigrants\" aria-label=\"Stacked Bars\" src=\"//datawrapper.dwcdn.net/gJFLa/1/\" scrolling=\"no\" frameborder=\"0\" style=\"border: none;\" width=\"600\" height=\"400\"></iframe></div><div><iframe title=\"Los Angeles recently arrived immigrants\" aria-label=\"Stacked Bars\" src=\"//datawrapper.dwcdn.net/202fz/1/\" scrolling=\"no\" frameborder=\"0\" style=\"border: none;\" width=\"600\" height=\"400\"></iframe></div><div><iframe title=\"California recently arrived immigrants\" aria-label=\"Stacked Bars\" src=\"//datawrapper.dwcdn.net/999FD/1/\" scrolling=\"no\" frameborder=\"0\" style=\"border: none;\" width=\"600\" height=\"400\"></iframe></div><div><iframe title=\"California's Recently Arrived Immigrants\" aria-label=\"Stacked Bars\" src=\"//datawrapper.dwcdn.net/353il/2/\" scrolling=\"no\" frameborder=\"0\" style=\"border: none;\" width=\"600\" height=\"400\"></iframe></div><div><iframe title=\"California's Recently Arrived Immigrants\" aria-label=\"Stacked Bars\" src=\"//datawrapper.dwcdn.net/bG8Oi/3/\" scrolling=\"no\" frameborder=\"0\" style=\"border: none;\" width=\"600\" height=\"400\"></iframe></div></div>"
      ],
      "text/plain": [
       "<IPython.core.display.HTML object>"
      ]
     },
     "execution_count": 26,
     "metadata": {},
     "output_type": "execute_result"
    }
   ],
   "source": [
    "HTML(\"<div style='float:left'>\" + divs + \"</div>\")"
   ]
  },
  {
   "cell_type": "code",
   "execution_count": 22,
   "metadata": {},
   "outputs": [],
   "source": [
    "for chart in dw.get_charts(limit = 60):\n",
    "    if chart['title'][-27:] == \"recently arrived immigrants\":\n",
    "        dw.delete_chart(chart['id'])\n",
    "    else:\n",
    "        pass"
   ]
  }
 ],
 "metadata": {
  "kernelspec": {
   "display_name": "Python 3",
   "language": "python",
   "name": "python3"
  },
  "language_info": {
   "codemirror_mode": {
    "name": "ipython",
    "version": 3
   },
   "file_extension": ".py",
   "mimetype": "text/x-python",
   "name": "python",
   "nbconvert_exporter": "python",
   "pygments_lexer": "ipython3",
   "version": "3.7.3"
  }
 },
 "nbformat": 4,
 "nbformat_minor": 4
}
