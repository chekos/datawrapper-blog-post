{
 "cells": [
  {
   "cell_type": "markdown",
   "metadata": {},
   "source": [
    "# 0000 - datawrapper blog post\n",
    "#### A repo containing the sample code for datawrapper's blog post\n",
    "\n",
    "<details>\n",
    "    <summary><strong>Goal</strong></summary>\n",
    "    \"The goal of this notebook is to ...\"\n",
    "    <ul>\n",
    "        <li> measurable goals for this notebook </li>\n",
    "        <li> Ex 1: Identify <i>variables of interest in dataset <strong>name.dta</strong></i> </li>\n",
    "        <li> Ex 2: Create a <i>working dataset</i> from raw data.</li>\n",
    "    </ul>\n",
    "</details>\n",
    "\n",
    "<details>\n",
    "    <summary><strong>Context</strong></summary>\n",
    "    Context at the moment (i.e. \"We've downloaded raw data from <strong><i>website.com</i></strong> and are now in the process of creating a mastefile.\")\n",
    "    <li> What is the final goal of this project?</li>\n",
    "    <li> What are we trying to recreate? Where are we in the process?</li>\n",
    "    <li> Any links to documentation / figures.</li>\n",
    "</details>"
   ]
  },
  {
   "cell_type": "code",
   "execution_count": null,
   "metadata": {},
   "outputs": [],
   "source": [
    "import pandas as pd\n",
    "from zipfile import ZipFile\n",
    "from pathlib import Path\n",
    "from tools import tree\n",
    "from datetime import datetime as dt\n",
    "today = dt.today().strftime(\"%d-%b-%y\")\n",
    "\n",
    "today"
   ]
  },
  {
   "cell_type": "code",
   "execution_count": null,
   "metadata": {},
   "outputs": [],
   "source": [
    "RAW_DATA = Path(\"../data/raw/\")\n",
    "INTERIM_DATA = Path(\"../data/interim/\")\n",
    "PROCESSED_DATA = Path(\"../data/processed/\")\n",
    "FINAL_DATA = Path(\"../data/final/\")"
   ]
  },
  {
   "cell_type": "code",
   "execution_count": null,
   "metadata": {},
   "outputs": [],
   "source": [
    "tree(RAW_DATA)"
   ]
  },
  {
   "cell_type": "code",
   "execution_count": null,
   "metadata": {},
   "outputs": [],
   "source": [
    "data = pd.read_"
   ]
  }
 ],
 "metadata": {
  "kernelspec": {
   "display_name": "Python 3",
   "language": "python",
   "name": "python3"
  },
  "language_info": {
   "codemirror_mode": {
    "name": "ipython",
    "version": 3
   },
   "file_extension": ".py",
   "mimetype": "text/x-python",
   "name": "python",
   "nbconvert_exporter": "python",
   "pygments_lexer": "ipython3",
   "version": "3.7.0"
  }
 },
 "nbformat": 4,
 "nbformat_minor": 2
}
